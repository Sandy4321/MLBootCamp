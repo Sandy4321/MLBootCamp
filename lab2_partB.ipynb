{
  "nbformat": 4,
  "nbformat_minor": 0,
  "metadata": {
    "colab": {
      "name": "lab2_partB.ipynb",
      "version": "0.3.2",
      "provenance": [],
      "include_colab_link": true
    },
    "kernelspec": {
      "display_name": "Python [conda root]",
      "language": "python",
      "name": "conda-root-py"
    }
  },
  "cells": [
    {
      "cell_type": "markdown",
      "metadata": {
        "id": "view-in-github",
        "colab_type": "text"
      },
      "source": [
        "[View in Colaboratory](https://colab.research.google.com/github/sdevika/MLBootCamp/blob/master/lab2_partB.ipynb)"
      ]
    },
    {
      "metadata": {
        "id": "F0VUZ_j_vW54",
        "colab_type": "text"
      },
      "cell_type": "markdown",
      "source": [
        "## L1 and L2 Penalty and Sparsity in Logistic Regression\n",
        "Experiment with MNIST digits. Comparison of the sparsity (percentage of zero coefficients) of solutions when L1 and L2 penalty are used for different values of C. We can see that large values of C give more freedom to the model. Conversely, smaller values of C constrain the model more. In the L1 penalty case, this leads to sparser solutions.\n",
        "We classify 8x8 images of digits into two classes: 0-4 against 5-9. The visualization shows coefficients of the models for varying C."
      ]
    },
    {
      "metadata": {
        "id": "nqHcTQjXvW55",
        "colab_type": "code",
        "colab": {
          "base_uri": "https://localhost:8080/",
          "height": 605
        },
        "outputId": "548fb514-6249-44cc-f92a-438b33164172"
      },
      "cell_type": "code",
      "source": [
        "# Authors: Alexandre Gramfort <alexandre.gramfort@inria.fr>\n",
        "#          Mathieu Blondel <mathieu@mblondel.org>\n",
        "#          Andreas Mueller <amueller@ais.uni-bonn.de>\n",
        "# License: BSD 3 clause\n",
        "\n",
        "import numpy as np\n",
        "import matplotlib.pyplot as plt\n",
        "\n",
        "from sklearn.linear_model import LogisticRegression\n",
        "from sklearn import datasets\n",
        "from sklearn.preprocessing import StandardScaler\n",
        "\n",
        "digits = datasets.load_digits()\n",
        "\n",
        "X, y = digits.data, digits.target\n",
        "X = StandardScaler().fit_transform(X)\n",
        "\n",
        "# classify small against large digits\n",
        "y = (y > 4).astype(np.int)\n",
        "\n",
        "\n",
        "# Set regularization parameter\n",
        "for i, C in enumerate((100, 1, 0.01)):\n",
        "    # turn down tolerance for short training time\n",
        "    clf_l1_LR = LogisticRegression(C=C, penalty='l1', tol=0.01)\n",
        "    clf_l2_LR = LogisticRegression(C=C, penalty='l2', tol=0.01)\n",
        "    clf_l1_LR.fit(X, y)\n",
        "    clf_l2_LR.fit(X, y)\n",
        "\n",
        "    coef_l1_LR = clf_l1_LR.coef_.ravel()\n",
        "    coef_l2_LR = clf_l2_LR.coef_.ravel()\n",
        "\n",
        "    # coef_l1_LR contains zeros due to the\n",
        "    # L1 sparsity inducing norm\n",
        "\n",
        "    sparsity_l1_LR = np.mean(coef_l1_LR == 0) * 100\n",
        "    sparsity_l2_LR = np.mean(coef_l2_LR == 0) * 100\n",
        "\n",
        "    print \"lambda= \", 1./C\n",
        "    print(\"Sparsity with L1 penalty: %.2f%%\" % sparsity_l1_LR)\n",
        "    print(\"score with L1 penalty: %.4f\" % clf_l1_LR.score(X, y))\n",
        "    print(\"Sparsity with L2 penalty: %.2f%%\" % sparsity_l2_LR)\n",
        "    print(\"score with L2 penalty: %.4f\" % clf_l2_LR.score(X, y))\n",
        "\n",
        "    l1_plot = plt.subplot(3, 2, 2 * i + 1)\n",
        "    l2_plot = plt.subplot(3, 2, 2 * (i + 1))\n",
        "    if i == 0:\n",
        "        l1_plot.set_title(\"L1 penalty\")\n",
        "        l2_plot.set_title(\"L2 penalty\")\n",
        "\n",
        "    l1_plot.imshow(np.abs(coef_l1_LR.reshape(8, 8)), interpolation='nearest',\n",
        "                   cmap='binary', vmax=1, vmin=0)\n",
        "    l2_plot.imshow(np.abs(coef_l2_LR.reshape(8, 8)), interpolation='nearest',\n",
        "                   cmap='binary', vmax=1, vmin=0)\n",
        "    plt.text(-8, 3, \"reg = \" +str(1./C))\n",
        "\n",
        "    l1_plot.set_xticks(())\n",
        "    l1_plot.set_yticks(())\n",
        "    l2_plot.set_xticks(())\n",
        "    l2_plot.set_yticks(())\n",
        "\n"
      ],
      "execution_count": 1,
      "outputs": [
        {
          "output_type": "stream",
          "text": [
            "lambda=  0.01\n",
            "Sparsity with L1 penalty: 6.25%\n",
            "score with L1 penalty: 0.9093\n",
            "Sparsity with L2 penalty: 4.69%\n",
            "score with L2 penalty: 0.9098\n",
            "lambda=  1.0\n",
            "Sparsity with L1 penalty: 9.38%\n",
            "score with L1 penalty: 0.9098\n",
            "Sparsity with L2 penalty: 4.69%\n",
            "score with L2 penalty: 0.9093\n",
            "lambda=  100.0\n",
            "Sparsity with L1 penalty: 85.94%\n",
            "score with L1 penalty: 0.8609\n",
            "Sparsity with L2 penalty: 4.69%\n",
            "score with L2 penalty: 0.8915\n"
          ],
          "name": "stdout"
        },
        {
          "output_type": "display_data",
          "data": {
            "image/png": "[encoded data removed]",
            "text/plain": [
              "<matplotlib.figure.Figure at 0x7f57c6840690>"
            ]
          },
          "metadata": {
            "tags": []
          }
        }
      ]
    },
    {
      "metadata": {
        "id": "38WXK5FMvW5-",
        "colab_type": "code",
        "colab": {}
      },
      "cell_type": "code",
      "source": [
        ""
      ],
      "execution_count": 0,
      "outputs": []
    }
  ]
}